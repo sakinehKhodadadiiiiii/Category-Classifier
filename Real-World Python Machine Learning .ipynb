{
 "cells": [
  {
   "cell_type": "markdown",
   "id": "da90fd64",
   "metadata": {},
   "source": [
    "# Load in the necessary libraries"
   ]
  },
  {
   "cell_type": "code",
   "execution_count": 76,
   "id": "1e105f2a",
   "metadata": {},
   "outputs": [],
   "source": [
    "import json\n",
    "from sklearn.model_selection import train_test_split\n",
    "from sklearn.feature_extraction.text import CountVectorizer"
   ]
  },
  {
   "cell_type": "markdown",
   "id": "448c6c16",
   "metadata": {},
   "source": [
    "### Data Class"
   ]
  },
  {
   "cell_type": "code",
   "execution_count": 54,
   "id": "f70c79c6",
   "metadata": {},
   "outputs": [],
   "source": [
    "class Sentiment:\n",
    "    NEGATIVE = \"NEGATIVE\"\n",
    "    NEUTRAL = \"NEUTRAL\"\n",
    "    POSITIVE = \"POSITIVE\"\n",
    "    \n",
    "class Review:\n",
    "    \n",
    "    def __init__(self,text,score):\n",
    "        self.text = text\n",
    "        self.score = score\n",
    "        self.sentiment = self.get_sentiment()\n",
    "        \n",
    "    def get_sentiment(self):\n",
    "        if self.score <= 2:\n",
    "            return Sentiment.NEGATIVE\n",
    "        elif self.score == 3:\n",
    "            return Sentiment.NEUTRAL\n",
    "        else:\n",
    "            return Sentiment.POSITIVE"
   ]
  },
  {
   "cell_type": "markdown",
   "id": "0264acb5",
   "metadata": {},
   "source": [
    "### Load Data"
   ]
  },
  {
   "cell_type": "code",
   "execution_count": 55,
   "id": "b5954613",
   "metadata": {},
   "outputs": [
    {
     "data": {
      "text/plain": [
       "'POSITIVE'"
      ]
     },
     "execution_count": 55,
     "metadata": {},
     "output_type": "execute_result"
    }
   ],
   "source": [
    "file_name = \"Downloads/Books_small.json\"\n",
    "\n",
    "reviews = []\n",
    "with open(file_name) as f:\n",
    "    for line in f:\n",
    "        review = json.loads(line)\n",
    "        reviews.append(Review(review[\"reviewText\"],review[\"overall\"]))\n",
    "        \n",
    "reviews[5].sentiment\n"
   ]
  },
  {
   "cell_type": "markdown",
   "id": "76ab81bf",
   "metadata": {},
   "source": [
    "### Prep Data"
   ]
  },
  {
   "cell_type": "code",
   "execution_count": 64,
   "id": "5399db28",
   "metadata": {},
   "outputs": [],
   "source": [
    "train,test = train_test_split(reviews, test_size=0.33, random_state=42)"
   ]
  },
  {
   "cell_type": "code",
   "execution_count": 69,
   "id": "f47a3d39",
   "metadata": {},
   "outputs": [
    {
     "data": {
      "text/plain": [
       "'POSITIVE'"
      ]
     },
     "execution_count": 69,
     "metadata": {},
     "output_type": "execute_result"
    }
   ],
   "source": [
    "train_x = [x.text for x in train]\n",
    "train_y = [y.sentiment for y in train]\n",
    "\n",
    "test_x = [x.text for x in test]\n",
    "test_y = [y.sentiment for y in test]\n",
    "\n",
    "train_y[10]"
   ]
  },
  {
   "cell_type": "markdown",
   "id": "a89d4711",
   "metadata": {},
   "source": [
    "### Bag of word vectorization"
   ]
  },
  {
   "cell_type": "code",
   "execution_count": 86,
   "id": "39e0bd72",
   "metadata": {},
   "outputs": [],
   "source": [
    "vectorizer = CountVectorizer()\n",
    "train_x_vector = vectorizer.fit_transform(train_x)\n",
    "test_x_vector = vectorizer.transform(test_x)"
   ]
  },
  {
   "cell_type": "markdown",
   "id": "02e44418",
   "metadata": {},
   "source": [
    "### Classsification"
   ]
  },
  {
   "cell_type": "markdown",
   "id": "a10062c3",
   "metadata": {},
   "source": [
    "#### Linear SVM"
   ]
  },
  {
   "cell_type": "code",
   "execution_count": 121,
   "id": "9958ae11",
   "metadata": {},
   "outputs": [
    {
     "data": {
      "text/plain": [
       "array(['POSITIVE'], dtype='<U8')"
      ]
     },
     "execution_count": 121,
     "metadata": {},
     "output_type": "execute_result"
    }
   ],
   "source": [
    "from sklearn import svm\n",
    "\n",
    "\n",
    "clf_svm = svm.SVC(kernel=\"linear\")\n",
    "clf_svm.fit(train_x_vector, train_y)\n",
    "\n",
    "test_x[100]\n",
    "\n",
    "clf_svm.predict(test_x_vector[100])"
   ]
  },
  {
   "cell_type": "markdown",
   "id": "44ac59cc",
   "metadata": {},
   "source": [
    "#### Decision Tree"
   ]
  },
  {
   "cell_type": "code",
   "execution_count": 122,
   "id": "a33a1d7a",
   "metadata": {},
   "outputs": [
    {
     "data": {
      "text/plain": [
       "array(['POSITIVE'], dtype='<U8')"
      ]
     },
     "execution_count": 122,
     "metadata": {},
     "output_type": "execute_result"
    }
   ],
   "source": [
    "from sklearn.tree import DecisionTreeClassifier\n",
    "\n",
    "clf_dec = DecisionTreeClassifier(random_state=0)\n",
    "clf_dec.fit(train_x_vector, train_y)\n",
    "\n",
    "test_x[100]\n",
    "\n",
    "clf_dec.predict(test_x_vector[100])"
   ]
  },
  {
   "cell_type": "markdown",
   "id": "0dbf7cf3",
   "metadata": {},
   "source": [
    "#### Naive Bayes"
   ]
  },
  {
   "cell_type": "code",
   "execution_count": 123,
   "id": "3a126014",
   "metadata": {},
   "outputs": [
    {
     "data": {
      "text/plain": [
       "array(['POSITIVE'], dtype='<U8')"
      ]
     },
     "execution_count": 123,
     "metadata": {},
     "output_type": "execute_result"
    }
   ],
   "source": [
    "from sklearn.naive_bayes import GaussianNB\n",
    "\n",
    "clf_gnb = GaussianNB()\n",
    "clf_gnb.fit(train_x_vector.toarray(), train_y)\n",
    "\n",
    "test_x[100]\n",
    "\n",
    "clf_gnb.predict(test_x_vector[100].toarray())"
   ]
  },
  {
   "cell_type": "markdown",
   "id": "ef1b74ea",
   "metadata": {},
   "source": [
    "#### Logistic Regression"
   ]
  },
  {
   "cell_type": "code",
   "execution_count": 124,
   "id": "7930f6b3",
   "metadata": {},
   "outputs": [
    {
     "name": "stderr",
     "output_type": "stream",
     "text": [
      "C:\\Users\\karga\\anaconda3\\lib\\site-packages\\sklearn\\linear_model\\_logistic.py:763: ConvergenceWarning: lbfgs failed to converge (status=1):\n",
      "STOP: TOTAL NO. of ITERATIONS REACHED LIMIT.\n",
      "\n",
      "Increase the number of iterations (max_iter) or scale the data as shown in:\n",
      "    https://scikit-learn.org/stable/modules/preprocessing.html\n",
      "Please also refer to the documentation for alternative solver options:\n",
      "    https://scikit-learn.org/stable/modules/linear_model.html#logistic-regression\n",
      "  n_iter_i = _check_optimize_result(\n"
     ]
    },
    {
     "data": {
      "text/plain": [
       "array(['POSITIVE'], dtype='<U8')"
      ]
     },
     "execution_count": 124,
     "metadata": {},
     "output_type": "execute_result"
    }
   ],
   "source": [
    "from sklearn.linear_model import LogisticRegression\n",
    "\n",
    "clf_log = LogisticRegression(random_state=0)\n",
    "\n",
    "clf_log.fit(train_x_vector, train_y)\n",
    "\n",
    "test_x[200]\n",
    "\n",
    "clf_log.predict(test_x_vector[200])"
   ]
  },
  {
   "cell_type": "markdown",
   "id": "d9425b5d",
   "metadata": {},
   "source": [
    "### Evaluation"
   ]
  },
  {
   "cell_type": "code",
   "execution_count": 132,
   "id": "84d88ce4",
   "metadata": {},
   "outputs": [
    {
     "name": "stdout",
     "output_type": "stream",
     "text": [
      "0.8242424242424242\n",
      "0.7696969696969697\n",
      "0.8121212121212121\n",
      "0.8303030303030303\n"
     ]
    }
   ],
   "source": [
    "# Mean accuracy\n",
    "print(clf_svm.score(test_x_vector,test_y))\n",
    "print(clf_dec.score(test_x_vector,test_y))\n",
    "print(clf_gnb.score(test_x_vector.toarray(),test_y))\n",
    "print(clf_log.score(test_x_vector,test_y))"
   ]
  },
  {
   "cell_type": "code",
   "execution_count": 143,
   "id": "614dff90",
   "metadata": {},
   "outputs": [
    {
     "name": "stdout",
     "output_type": "stream",
     "text": [
      "[0.22222222 0.21052632 0.91319444]\n",
      "[0.06896552 0.10169492 0.87412587]\n",
      "[0.09090909 0.08510638 0.89678511]\n",
      "[0.1        0.12244898 0.91370558]\n"
     ]
    }
   ],
   "source": [
    "# F1 scores\n",
    "from sklearn.metrics import f1_score\n",
    "\n",
    "print(f1_score(test_y,clf_svm.predict(test_x_vector), average=None))\n",
    "print(f1_score(test_y,clf_dec.predict(test_x_vector), average=None))\n",
    "print(f1_score(test_y,clf_gnb.predict(test_x_vector.toarray()), average=None))\n",
    "print(f1_score(test_y,clf_log.predict(test_x_vector), average=None))"
   ]
  }
 ],
 "metadata": {
  "kernelspec": {
   "display_name": "Python 3 (ipykernel)",
   "language": "python",
   "name": "python3"
  },
  "language_info": {
   "codemirror_mode": {
    "name": "ipython",
    "version": 3
   },
   "file_extension": ".py",
   "mimetype": "text/x-python",
   "name": "python",
   "nbconvert_exporter": "python",
   "pygments_lexer": "ipython3",
   "version": "3.9.7"
  }
 },
 "nbformat": 4,
 "nbformat_minor": 5
}
